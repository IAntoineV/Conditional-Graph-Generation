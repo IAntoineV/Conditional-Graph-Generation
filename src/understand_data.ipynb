{
 "cells": [
  {
   "metadata": {
    "ExecuteTime": {
     "end_time": "2025-01-09T14:59:33.576892Z",
     "start_time": "2025-01-09T14:59:30.811259Z"
    }
   },
   "cell_type": "code",
   "source": [
    "import argparse\n",
    "import os\n",
    "import random\n",
    "import scipy as sp\n",
    "import pickle\n",
    "\n",
    "import shutil\n",
    "import csv\n",
    "import ast\n",
    "\n",
    "import scipy.sparse as sparse\n",
    "from tqdm import tqdm\n",
    "from torch import Tensor\n",
    "import networkx as nx\n",
    "import numpy as np\n",
    "from datetime import datetime\n",
    "import torch\n",
    "import torch.nn as nn\n",
    "from torch_geometric.data import Data\n",
    "\n",
    "import torch.nn.functional as F\n",
    "from torch_geometric.loader import DataLoader\n",
    "\n",
    "from autoencoder import VariationalAutoEncoder, VariationalAutoEncoderWithInfoNCE\n",
    "from denoise_model import DenoiseNN, p_losses, sample\n",
    "from utils import linear_beta_schedule, construct_nx_from_adj, preprocess_dataset, subgraph_augment, edge_drop, \\\n",
    "    preprocess_dataset_with_pretrained_embedder\n",
    "\n",
    "from torch.utils.data import Subset\n"
   ],
   "id": "36abe37b3c385ce1",
   "outputs": [
    {
     "name": "stderr",
     "output_type": "stream",
     "text": [
      "2025-01-09 15:59:32.832085: I tensorflow/core/util/port.cc:111] oneDNN custom operations are on. You may see slightly different numerical results due to floating-point round-off errors from different computation orders. To turn them off, set the environment variable `TF_ENABLE_ONEDNN_OPTS=0`.\n",
      "2025-01-09 15:59:32.833336: I tensorflow/tsl/cuda/cudart_stub.cc:28] Could not find cuda drivers on your machine, GPU will not be used.\n",
      "2025-01-09 15:59:32.850882: E tensorflow/compiler/xla/stream_executor/cuda/cuda_dnn.cc:9342] Unable to register cuDNN factory: Attempting to register factory for plugin cuDNN when one has already been registered\n",
      "2025-01-09 15:59:32.850896: E tensorflow/compiler/xla/stream_executor/cuda/cuda_fft.cc:609] Unable to register cuFFT factory: Attempting to register factory for plugin cuFFT when one has already been registered\n",
      "2025-01-09 15:59:32.850909: E tensorflow/compiler/xla/stream_executor/cuda/cuda_blas.cc:1518] Unable to register cuBLAS factory: Attempting to register factory for plugin cuBLAS when one has already been registered\n",
      "2025-01-09 15:59:32.854845: I tensorflow/core/platform/cpu_feature_guard.cc:182] This TensorFlow binary is optimized to use available CPU instructions in performance-critical operations.\n",
      "To enable the following instructions: AVX2 AVX_VNNI FMA, in other operations, rebuild TensorFlow with the appropriate compiler flags.\n",
      "2025-01-09 15:59:33.242075: W tensorflow/compiler/tf2tensorrt/utils/py_utils.cc:38] TF-TRT Warning: Could not find TensorRT\n"
     ]
    }
   ],
   "execution_count": 1
  },
  {
   "cell_type": "code",
   "id": "initial_id",
   "metadata": {
    "collapsed": true,
    "ExecuteTime": {
     "end_time": "2025-01-09T14:59:34.246836Z",
     "start_time": "2025-01-09T14:59:33.591802Z"
    }
   },
   "source": [
    "device = torch.device('cuda:0' if torch.cuda.is_available() else 'cpu')\n",
    "n_max_nodes=50\n",
    "spectral_emb_dim=10\n",
    "preprocess_function = preprocess_dataset\n",
    "# preprocess train data, validation data and test data. Only once for the first time that you run the code. Then the appropriate .pt files will be saved and loaded.\n",
    "trainset = preprocess_function(\"train\", n_max_nodes, spectral_emb_dim)\n",
    "validset = preprocess_function(\"valid\", n_max_nodes, spectral_emb_dim)\n",
    "testset = preprocess_function(\"test\", n_max_nodes, spectral_emb_dim)"
   ],
   "outputs": [
    {
     "name": "stderr",
     "output_type": "stream",
     "text": [
      "/home/antoine/Bureau/3A/altegrad/Conditional-Graph-Generation/src/utils.py:55: FutureWarning: You are using `torch.load` with `weights_only=False` (the current default value), which uses the default pickle module implicitly. It is possible to construct malicious pickle data which will execute arbitrary code during unpickling (See https://github.com/pytorch/pytorch/blob/main/SECURITY.md#untrusted-models for more details). In a future release, the default value for `weights_only` will be flipped to `True`. This limits the functions that could be executed during unpickling. Arbitrary objects will no longer be allowed to be loaded via this mode unless they are explicitly allowlisted by the user via `torch.serialization.add_safe_globals`. We recommend you start setting `weights_only=True` for any use case where you don't have full control of the loaded file. Please open an issue on GitHub for any issues related to this experimental feature.\n",
      "  data_lst = torch.load(filename)\n"
     ]
    },
    {
     "name": "stdout",
     "output_type": "stream",
     "text": [
      "Dataset ./data/dataset_train.pt loaded from file\n",
      "Dataset ./data/dataset_valid.pt loaded from file\n",
      "Dataset ./data/dataset_test.pt loaded from file\n"
     ]
    },
    {
     "name": "stderr",
     "output_type": "stream",
     "text": [
      "/home/antoine/Bureau/3A/altegrad/Conditional-Graph-Generation/src/utils.py:30: FutureWarning: You are using `torch.load` with `weights_only=False` (the current default value), which uses the default pickle module implicitly. It is possible to construct malicious pickle data which will execute arbitrary code during unpickling (See https://github.com/pytorch/pytorch/blob/main/SECURITY.md#untrusted-models for more details). In a future release, the default value for `weights_only` will be flipped to `True`. This limits the functions that could be executed during unpickling. Arbitrary objects will no longer be allowed to be loaded via this mode unless they are explicitly allowlisted by the user via `torch.serialization.add_safe_globals`. We recommend you start setting `weights_only=True` for any use case where you don't have full control of the loaded file. Please open an issue on GitHub for any issues related to this experimental feature.\n",
      "  data_lst = torch.load(filename)\n"
     ]
    }
   ],
   "execution_count": 2
  },
  {
   "metadata": {
    "ExecuteTime": {
     "end_time": "2025-01-09T14:59:34.281932Z",
     "start_time": "2025-01-09T14:59:34.277434Z"
    }
   },
   "cell_type": "code",
   "source": [
    "from extract_data import STATS\n",
    "\n",
    "data = trainset[0]\n",
    "print(data.keys())\n",
    "print(data.num_nodes)\n",
    "print(list(zip(STATS, data.stats[0])))"
   ],
   "id": "b47485e72ea0e22f",
   "outputs": [
    {
     "name": "stdout",
     "output_type": "stream",
     "text": [
      "['stats', 'edge_index', 'A', 'x', 'filename']\n",
      "44\n",
      "[('node', tensor(44.)), ('edge', tensor(406.)), ('degre', tensor(18.4545)), ('triangles', tensor(1049.)), ('g_cluster_coef', tensor(0.4315)), ('max_k_core', tensor(14.)), ('communities', tensor(4.))]\n"
     ]
    }
   ],
   "execution_count": 3
  },
  {
   "metadata": {
    "ExecuteTime": {
     "end_time": "2025-01-09T14:59:34.881427Z",
     "start_time": "2025-01-09T14:59:34.406929Z"
    }
   },
   "cell_type": "code",
   "source": [
    "import torch\n",
    "\n",
    "# Assuming you have imported these functions already\n",
    "from extract_data import create_features, compute_MAE\n",
    "from graph_utils import edge_index_to_dense\n",
    "\n",
    "stats_true = []\n",
    "num_nodes_batched = []\n",
    "adj_matrices = []\n",
    "\n",
    "# Collect the adjacency matrices and stats\n",
    "for data in trainset:\n",
    "    adj_matrices.append(edge_index_to_dense(data.edge_index, data.num_nodes))\n",
    "    num_nodes_batched.append(data.num_nodes)\n",
    "    stats_true.append(data.stats[0])\n",
    "\n",
    "# Find the maximum number of nodes in the batch\n",
    "max_num_nodes = max(num_nodes_batched)\n",
    "\n",
    "# Pad the adjacency matrices to max_num_nodes\n",
    "padded_adj_matrices = []\n",
    "for adj_matrix, num_nodes in zip(adj_matrices, num_nodes_batched):\n",
    "    # Padding the matrix to the shape of (max_num_nodes, max_num_nodes)\n",
    "    padded_matrix = torch.zeros((max_num_nodes, max_num_nodes), dtype=adj_matrix.dtype)\n",
    "    padded_matrix[:num_nodes, :num_nodes] = adj_matrix\n",
    "    padded_adj_matrices.append(padded_matrix)\n",
    "\n",
    "# Stack the padded adjacency matrices and stats\n",
    "adj_matrices_padded = torch.stack(padded_adj_matrices, dim=0)\n",
    "stats_true_tensor = torch.stack(stats_true, dim=0)\n",
    "\n",
    "\n",
    "from extract_data import features_diff\n",
    "\n",
    "features_pred = features_diff(adj_matrices_padded,torch.Tensor(num_nodes_batched).int())\n",
    "\n",
    "\n",
    "\n",
    "\n"
   ],
   "id": "4fdb7765da0d3396",
   "outputs": [],
   "execution_count": 4
  },
  {
   "metadata": {
    "ExecuteTime": {
     "end_time": "2025-01-09T15:44:54.832642Z",
     "start_time": "2025-01-09T15:44:54.830115Z"
    }
   },
   "cell_type": "code",
   "source": "print(stats_true_tensor.mean(dim=0), stats_true_tensor.std(dim=0))",
   "id": "d442de4226d118b4",
   "outputs": [
    {
     "name": "stdout",
     "output_type": "stream",
     "text": [
      "tensor([3.0606e+01, 2.2626e+02, 1.2925e+01, 1.3899e+03, 5.0697e-01, 1.1442e+01,\n",
      "        3.3475e+00]) tensor([1.1808e+01, 2.3441e+02, 1.0175e+01, 2.7951e+03, 3.2121e-01, 9.9933e+00,\n",
      "        1.4503e+00])\n"
     ]
    }
   ],
   "execution_count": 10
  },
  {
   "metadata": {},
   "cell_type": "code",
   "outputs": [],
   "execution_count": null,
   "source": "",
   "id": "29697020038a3dc1"
  }
 ],
 "metadata": {
  "kernelspec": {
   "display_name": "Python 3",
   "language": "python",
   "name": "python3"
  },
  "language_info": {
   "codemirror_mode": {
    "name": "ipython",
    "version": 2
   },
   "file_extension": ".py",
   "mimetype": "text/x-python",
   "name": "python",
   "nbconvert_exporter": "python",
   "pygments_lexer": "ipython2",
   "version": "2.7.6"
  }
 },
 "nbformat": 4,
 "nbformat_minor": 5
}
